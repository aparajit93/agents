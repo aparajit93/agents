{
 "cells": [
  {
   "cell_type": "markdown",
   "metadata": {},
   "source": [
    "## Welcome to Lab 3 for Week 1 Day 4\n",
    "\n",
    "Today we're going to build something with immediate value!\n",
    "\n",
    "In the folder `me` I've put a single file `linkedin.pdf` - it's a PDF download of my LinkedIn profile.\n",
    "\n",
    "Please replace it with yours!\n",
    "\n",
    "I've also made a file called `summary.txt`\n",
    "\n",
    "We're not going to use Tools just yet - we're going to add the tool tomorrow."
   ]
  },
  {
   "cell_type": "markdown",
   "metadata": {},
   "source": [
    "<table style=\"margin: 0; text-align: left; width:100%\">\n",
    "    <tr>\n",
    "        <td style=\"width: 150px; height: 150px; vertical-align: middle;\">\n",
    "            <img src=\"../assets/tools.png\" width=\"150\" height=\"150\" style=\"display: block;\" />\n",
    "        </td>\n",
    "        <td>\n",
    "            <h2 style=\"color:#00bfff;\">Looking up packages</h2>\n",
    "            <span style=\"color:#00bfff;\">In this lab, we're going to use the wonderful Gradio package for building quick UIs, \n",
    "            and we're also going to use the popular PyPDF PDF reader. You can get guides to these packages by asking \n",
    "            ChatGPT or Claude, and you find all open-source packages on the repository <a href=\"https://pypi.org\">https://pypi.org</a>.\n",
    "            </span>\n",
    "        </td>\n",
    "    </tr>\n",
    "</table>"
   ]
  },
  {
   "cell_type": "code",
   "execution_count": 1,
   "metadata": {},
   "outputs": [],
   "source": [
    "# If you don't know what any of these packages do - you can always ask ChatGPT for a guide!\n",
    "\n",
    "from dotenv import load_dotenv\n",
    "from openai import OpenAI\n",
    "from pypdf import PdfReader\n",
    "import gradio as gr"
   ]
  },
  {
   "cell_type": "code",
   "execution_count": 2,
   "metadata": {},
   "outputs": [],
   "source": [
    "load_dotenv(override=True)\n",
    "openai = OpenAI()"
   ]
  },
  {
   "cell_type": "code",
   "execution_count": 3,
   "metadata": {},
   "outputs": [],
   "source": [
    "reader = PdfReader(\"me/Profile.pdf\")\n",
    "linkedin = \"\"\n",
    "for page in reader.pages:\n",
    "    text = page.extract_text()\n",
    "    if text:\n",
    "        linkedin += text"
   ]
  },
  {
   "cell_type": "code",
   "execution_count": 4,
   "metadata": {},
   "outputs": [
    {
     "name": "stdout",
     "output_type": "stream",
     "text": [
      "   \n",
      "Contact\n",
      "aparajit45@gmail.com\n",
      "www.linkedin.com/in/aparajit-\n",
      "gnanasekaran-69b417180\n",
      "(LinkedIn)\n",
      "Top Skills\n",
      "LangChain\n",
      "Large Language Models (LLM)\n",
      "Retrieval-Augmented Generation\n",
      "(RAG)\n",
      "Honors-Awards\n",
      "Judge's Choice Award\n",
      "Aparajit Gnanasekaran\n",
      "Machine Learning Engineer, Data Scientist and Research Assistant\n",
      "Edmonton, Alberta, Canada\n",
      "Summary\n",
      "I'm a ML/AI Engineer with over 4 years of experience developing and\n",
      "deploying AI/ML solutions across startups, academia, and industry. \n",
      "I’ve built and fine-tuned production-grade ML models for tasks like\n",
      "seismic imaging, document parsing (OCR + NLP), RAG Document\n",
      "Retrieval and chaos detection in plasma physics, often working with\n",
      "cloud-based tools like AWS and containers like Docker.\n",
      "Recent work includes contributing to a computer vision + NLP\n",
      "tool that extracts structured information from unstructured pipeline\n",
      "documents in the Oil & Gas industry, enabling faster and more\n",
      "accurate asset tracking.\n",
      "I'm passionate about scalable AI systems, model evaluation, and\n",
      "bringing ML prototypes into real-world impact. Currently seeking\n",
      "opportunities to build LLM-integrated products and ML pipelines in\n",
      "fast-moving, mission-driven environments.\n",
      "Technical Skills: Langchain, Python, PyTorch, Tensorflow, scikit-\n",
      "learn, OpenCV, AWS, Docker, Git, REST APIs\n",
      "Areas of Focus: NLP, LLMs, MLOps, Cloud ML, Agentic AI\n",
      "Experience\n",
      "Hyfold Technology Corp.\n",
      "Machine Learning Researcher\n",
      "October 2024 - Present (10 months)\n",
      "Calgary, Alberta, Canada\n",
      "Simulate the operation of plasma pulse seismic imaging devices and build\n",
      "machine learning/AI tools for imaging purposes in the Alberta oil sands.\n",
      "Building various configurations of seismic imagine device chambers using\n",
      "CAD software.\n",
      "  Page 1 of 5   \n",
      "Developed and trained Machine Learning/AI models to enhance seismic\n",
      "imaging performance, optimizing device parameters for field operations,\n",
      "resulting in improved imaging accuracy.\n",
      "Simulated the operation of seismic imaging devices using OpenFOAM CFD\n",
      "and Finite Element Solvers, identifying optimal configurations to enhance sub-\n",
      "surface seismic imaging, improving operation efficiency.\n",
      "Hofintech\n",
      "Machine Learning Engineer\n",
      "April 2024 - November 2024 (8 months)\n",
      "Implemented data pipelines using Python & AWS SDK to process thousands\n",
      "of technical documents.\n",
      "Developed and trained Machine Learning models using AWS CustomLabels\n",
      "Rekognition API and OpenCV for object detection, enhancing pipeline\n",
      "document parsing accuracy.\n",
      "Built and trained Machine Learning models using AWS Textract API for text\n",
      "recognition, improving pipeline and field equipment number tags extraction\n",
      "efficiency.\n",
      "Collected and labeled pipeline drawings, preparing data sets for training and\n",
      "testing, resulting in a increase in model training accuracy.\n",
      "Collaborated with cross-functional teams to integrate ML predictions into client-\n",
      "facing applications\n",
      "University of Alberta\n",
      "3 years 6 months\n",
      "Research Assistant\n",
      "September 2020 - June 2023 (2 years 10 months)\n",
      "Edmonton, Alberta, Canada\n",
      "I delved deeper into understanding plasma experiments by applying non-\n",
      "linear time series analysis, which helps unravel the complexities of chaotic\n",
      "heat transfer. My research involved closely examining the fluctuations in\n",
      "plasma current and voltage to shed light on the chaotic behaviors of transport\n",
      "mechanisms, particularly emphasizing the filamentary formations at the edges\n",
      "of plasma confinement devices. \n",
      "  Page 2 of 5   \n",
      "Leveraging chaos theory and CH-Planes, I crafted models to accurately\n",
      "represent the chaotic heat transfer in plasma, offering a new perspective on its\n",
      "intricate dynamics.\n",
      "Some of my achievements here were:\n",
      "Developed and implemented ML models using Python and PyTorch,\n",
      "enhancing predictive analysis of chaos in plasma transport, improving model\n",
      "accuracy.\n",
      "Applied statistical learning and supervised ML for system characterization.\n",
      "Developed ML models to identify transition thresholds in experimental\n",
      "datasets.\n",
      "Authored and published comprehensive thesis detailing findings and\n",
      "methodologies related to chaotic heat transport in plasma.\n",
      "Processed and analyzed extensive data sets, each exceeding 10GB, to\n",
      "support research findings and model accuracy.\n",
      "Delivered keynote research findings to department faculty, enhancing\n",
      "academic collaboration and knowledge sharing.\n",
      "Conducted specialized guest lecture at University's Theoretical Physics\n",
      "Institute, fostering interdisciplinary dialogue.\n",
      "Teaching Assistant\n",
      "September 2020 - December 2022 (2 years 4 months)\n",
      "Orchestrated and facilitated educational sessions alongside lead educator,\n",
      "addressing learner inquiries and coordinating office hours, enhancing student\n",
      "engagement.\n",
      "Directed undergraduate laboratory courses as chief educator, improving lab\n",
      "efficiency by through structured lesson plans and hands-on activities. \n",
      "Evaluated and marked student assignments and examinations, ensuring\n",
      "academic integrity and maintaining a high standard of education.\n",
      "Research Assistant\n",
      "January 2020 - August 2020 (8 months)\n",
      "Edmonton, Alberta, Canada\n",
      "  Page 3 of 5   \n",
      "Spearheaded comprehensive analysis of plasma fluctuations, discerning\n",
      "chaotic heat transport characteristics under Dr. Richard Sydora's guidance.\n",
      "Implemented advanced statistical algorithms in MATLAB, scrutinizing\n",
      "extensive plasma current and voltage data sets, improving data analysis\n",
      "precision.\n",
      "Cultivated expertise in computational physics by focusing on algorithmic\n",
      "analysis of plasma data, leveraging Python libraries (numpy, pandas,\n",
      "matplotlib) for predictive analysis.\n",
      "Undergraduate Physics Society, University of Alberta\n",
      "President\n",
      "January 2018 - December 2018 (1 year)\n",
      "Edmonton, Alberta, Canada\n",
      "I took the lead in organizing social events to strengthen the bond within\n",
      "our academic community, involving both students and faculty. I kicked\n",
      "off welcoming sessions for new students to help them connect with our\n",
      "professors. I arranged various activities, from game nights and research\n",
      "showcases to end-of-year festivities, all aimed at boosting community\n",
      "involvement. \n",
      "I also had the chance to coordinate visits from distinguished guest speakers,\n",
      "adding value to our educational journey. Moreover, I oversaw the physics\n",
      "student lounge, making sure it was a well-equipped space with study\n",
      "materials, snacks, and leisure options.\n",
      "A few of my accomplishments here include:\n",
      "Orchestrated social gatherings to enhance community engagement and\n",
      "camaraderie among students and faculty. \n",
      "Led and organized diverse events, including games nights, research\n",
      "presentations, and year-end celebrations, enhancing community engagement\n",
      "and camaraderie among students and faculty.\n",
      "Represented undergraduate physics students' interests to the Department\n",
      "of Physics and Faculty of Science through periodic meetings and detailed\n",
      "reports, fostering effective communication and advocacy.\n",
      "Coordinated visits by renowned guest speakers for departmental events,\n",
      "enriching academic opportunities and promoting interdisciplinary dialogue.\n",
      "University of Alberta\n",
      "  Page 4 of 5   \n",
      "Research Assistant\n",
      "May 2017 - August 2017 (4 months)\n",
      "Edmonton, Alberta, Canada\n",
      "Developed innovative computational tools utilizing MATLAB to analyze plasma\n",
      "fluctuation data, advancing statistical analysis methodologies.\n",
      "Spearheaded project under Dr. Richard Sydora's guidance during internship,\n",
      "improving research methodologies and data analysis precision.\n",
      "Leveraged MATLAB for advanced statistical algorithms, contributing to the\n",
      "enhancement of plasma fluctuation data analysis.\n",
      "Education\n",
      "MIT IDSS\n",
      "Data Science and Machine Learning: Making Data-Driven Decisions, Data\n",
      "Science · (January 2024 - May 2024)\n",
      "University of Alberta\n",
      "Master of Science - MS, Plasma and High-Temperature Physics · (September\n",
      "2020 - June 2023)\n",
      "University of Alberta\n",
      "Undergraduate, Physics · (2015 - 2019)\n",
      "  Page 5 of 5\n"
     ]
    }
   ],
   "source": [
    "print(linkedin)"
   ]
  },
  {
   "cell_type": "code",
   "execution_count": 5,
   "metadata": {},
   "outputs": [],
   "source": [
    "with open(\"me/summary_aparajit.txt\", \"r\", encoding=\"utf-8\") as f:\n",
    "    summary = f.read()"
   ]
  },
  {
   "cell_type": "code",
   "execution_count": 6,
   "metadata": {},
   "outputs": [],
   "source": [
    "name = \"Aparajit Gnanasekaran\""
   ]
  },
  {
   "cell_type": "code",
   "execution_count": 7,
   "metadata": {},
   "outputs": [],
   "source": [
    "system_prompt = f\"You are acting as {name}. You are answering questions on {name}'s website, \\\n",
    "particularly questions related to {name}'s career, background, skills and experience. \\\n",
    "Your responsibility is to represent {name} for interactions on the website as faithfully as possible. \\\n",
    "You are given a summary of {name}'s background and LinkedIn profile which you can use to answer questions. \\\n",
    "Be professional and engaging, as if talking to a potential client or future employer who came across the website. \\\n",
    "If you don't know the answer, say so.\"\n",
    "\n",
    "system_prompt += f\"\\n\\n## Summary:\\n{summary}\\n\\n## LinkedIn Profile:\\n{linkedin}\\n\\n\"\n",
    "system_prompt += f\"With this context, please chat with the user, always staying in character as {name}.\"\n"
   ]
  },
  {
   "cell_type": "code",
   "execution_count": 8,
   "metadata": {},
   "outputs": [
    {
     "data": {
      "text/plain": [
       "\"You are acting as Aparajit Gnanasekaran. You are answering questions on Aparajit Gnanasekaran's website, particularly questions related to Aparajit Gnanasekaran's career, background, skills and experience. Your responsibility is to represent Aparajit Gnanasekaran for interactions on the website as faithfully as possible. You are given a summary of Aparajit Gnanasekaran's background and LinkedIn profile which you can use to answer questions. Be professional and engaging, as if talking to a potential client or future employer who came across the website. If you don't know the answer, say so.\\n\\n## Summary:\\nMy name is Aparajit Gnanasekaran. I am a ML/AI engineer working across academia, startup and industry. I have built tools to enhance seismic imaging, RAG document retrieval and object detection for industrial documents.\\n\\n## LinkedIn Profile:\\n\\xa0 \\xa0\\nContact\\naparajit45@gmail.com\\nwww.linkedin.com/in/aparajit-\\ngnanasekaran-69b417180\\n(LinkedIn)\\nTop Skills\\nLangChain\\nLarge Language Models (LLM)\\nRetrieval-Augmented Generation\\n(RAG)\\nHonors-Awards\\nJudge's Choice Award\\nAparajit Gnanasekaran\\nMachine Learning Engineer, Data Scientist and Research Assistant\\nEdmonton, Alberta, Canada\\nSummary\\nI'm a ML/AI Engineer with over 4 years of experience developing and\\ndeploying AI/ML solutions across startups, academia, and industry. \\nI’ve built and fine-tuned production-grade ML models for tasks like\\nseismic imaging, document parsing (OCR + NLP), RAG Document\\nRetrieval and chaos detection in plasma physics, often working with\\ncloud-based tools like AWS and containers like Docker.\\nRecent work includes contributing to a computer vision + NLP\\ntool that extracts structured information from unstructured pipeline\\ndocuments in the Oil & Gas industry, enabling faster and more\\naccurate asset tracking.\\nI'm passionate about scalable AI systems, model evaluation, and\\nbringing ML prototypes into real-world impact. Currently seeking\\nopportunities to build LLM-integrated products and ML pipelines in\\nfast-moving, mission-driven environments.\\nTechnical Skills: Langchain, Python, PyTorch, Tensorflow, scikit-\\nlearn, OpenCV, AWS, Docker, Git, REST APIs\\nAreas of Focus: NLP, LLMs, MLOps, Cloud ML, Agentic AI\\nExperience\\nHyfold Technology Corp.\\nMachine Learning Researcher\\nOctober 2024\\xa0-\\xa0Present\\xa0(10 months)\\nCalgary, Alberta, Canada\\nSimulate the operation of plasma pulse seismic imaging devices and build\\nmachine learning/AI tools for imaging purposes in the Alberta oil sands.\\nBuilding various configurations of seismic imagine device chambers using\\nCAD software.\\n\\xa0 Page 1 of 5\\xa0 \\xa0\\nDeveloped and trained Machine Learning/AI models to enhance seismic\\nimaging performance, optimizing device parameters for field operations,\\nresulting in improved imaging accuracy.\\nSimulated the operation of seismic imaging devices using OpenFOAM CFD\\nand Finite Element Solvers, identifying optimal configurations to enhance sub-\\nsurface seismic imaging, improving operation efficiency.\\nHofintech\\nMachine Learning Engineer\\nApril 2024\\xa0-\\xa0November 2024\\xa0(8 months)\\nImplemented data pipelines using Python & AWS SDK to process thousands\\nof technical documents.\\nDeveloped and trained Machine Learning models using AWS CustomLabels\\nRekognition API and OpenCV for object detection, enhancing pipeline\\ndocument parsing accuracy.\\nBuilt and trained Machine Learning models using AWS Textract API for text\\nrecognition, improving pipeline and field equipment number tags extraction\\nefficiency.\\nCollected and labeled pipeline drawings, preparing data sets for training and\\ntesting, resulting in a increase in model training accuracy.\\nCollaborated with cross-functional teams to integrate ML predictions into client-\\nfacing applications\\nUniversity of Alberta\\n3 years 6 months\\nResearch Assistant\\nSeptember 2020\\xa0-\\xa0June 2023\\xa0(2 years 10 months)\\nEdmonton, Alberta, Canada\\nI delved deeper into understanding plasma experiments by applying non-\\nlinear time series analysis, which helps unravel the complexities of chaotic\\nheat transfer. My research involved closely examining the fluctuations in\\nplasma current and voltage to shed light on the chaotic behaviors of transport\\nmechanisms, particularly emphasizing the filamentary formations at the edges\\nof plasma confinement devices. \\n\\xa0 Page 2 of 5\\xa0 \\xa0\\nLeveraging chaos theory and CH-Planes, I crafted models to accurately\\nrepresent the chaotic heat transfer in plasma, offering a new perspective on its\\nintricate dynamics.\\nSome of my achievements here were:\\nDeveloped and implemented ML models using Python and PyTorch,\\nenhancing predictive analysis of chaos in plasma transport, improving model\\naccuracy.\\nApplied statistical learning and supervised ML for system characterization.\\nDeveloped ML models to identify transition thresholds in experimental\\ndatasets.\\nAuthored and published comprehensive thesis detailing findings and\\nmethodologies related to chaotic heat transport in plasma.\\nProcessed and analyzed extensive data sets, each exceeding 10GB, to\\nsupport research findings and model accuracy.\\nDelivered keynote research findings to department faculty, enhancing\\nacademic collaboration and knowledge sharing.\\nConducted specialized guest lecture at University's Theoretical Physics\\nInstitute, fostering interdisciplinary dialogue.\\nTeaching Assistant\\nSeptember 2020\\xa0-\\xa0December 2022\\xa0(2 years 4 months)\\nOrchestrated and facilitated educational sessions alongside lead educator,\\naddressing learner inquiries and coordinating office hours, enhancing student\\nengagement.\\nDirected undergraduate laboratory courses as chief educator, improving lab\\nefficiency by through structured lesson plans and hands-on activities. \\nEvaluated and marked student assignments and examinations, ensuring\\nacademic integrity and maintaining a high standard of education.\\nResearch Assistant\\nJanuary 2020\\xa0-\\xa0August 2020\\xa0(8 months)\\nEdmonton, Alberta, Canada\\n\\xa0 Page 3 of 5\\xa0 \\xa0\\nSpearheaded comprehensive analysis of plasma fluctuations, discerning\\nchaotic heat transport characteristics under Dr. Richard Sydora's guidance.\\nImplemented advanced statistical algorithms in MATLAB, scrutinizing\\nextensive plasma current and voltage data sets, improving data analysis\\nprecision.\\nCultivated expertise in computational physics by focusing on algorithmic\\nanalysis of plasma data, leveraging Python libraries (numpy, pandas,\\nmatplotlib) for predictive analysis.\\nUndergraduate Physics Society, University of Alberta\\nPresident\\nJanuary 2018\\xa0-\\xa0December 2018\\xa0(1 year)\\nEdmonton, Alberta, Canada\\nI took the lead in organizing social events to strengthen the bond within\\nour academic community, involving both students and faculty. I kicked\\noff welcoming sessions for new students to help them connect with our\\nprofessors. I arranged various activities, from game nights and research\\nshowcases to end-of-year festivities, all aimed at boosting community\\ninvolvement.\\xa0\\nI also had the chance to coordinate visits from distinguished guest speakers,\\nadding value to our educational journey. Moreover, I oversaw the physics\\nstudent lounge, making sure it was a well-equipped space with study\\nmaterials, snacks, and leisure options.\\nA few of my accomplishments here include:\\nOrchestrated social gatherings to enhance community engagement and\\ncamaraderie among students and faculty. \\nLed and organized diverse events, including games nights, research\\npresentations, and year-end celebrations, enhancing community engagement\\nand camaraderie among students and faculty.\\nRepresented undergraduate physics students' interests to the Department\\nof Physics and Faculty of Science through periodic meetings and detailed\\nreports, fostering effective communication and advocacy.\\nCoordinated visits by renowned guest speakers for departmental events,\\nenriching academic opportunities and promoting interdisciplinary dialogue.\\nUniversity of Alberta\\n\\xa0 Page 4 of 5\\xa0 \\xa0\\nResearch Assistant\\nMay 2017\\xa0-\\xa0August 2017\\xa0(4 months)\\nEdmonton, Alberta, Canada\\nDeveloped innovative computational tools utilizing MATLAB to analyze plasma\\nfluctuation data, advancing statistical analysis methodologies.\\nSpearheaded project under Dr. Richard Sydora's guidance during internship,\\nimproving research methodologies and data analysis precision.\\nLeveraged MATLAB for advanced statistical algorithms, contributing to the\\nenhancement of plasma fluctuation data analysis.\\nEducation\\nMIT IDSS\\nData Science and Machine Learning: Making Data-Driven Decisions,\\xa0Data\\nScience\\xa0·\\xa0(January 2024\\xa0-\\xa0May 2024)\\nUniversity of Alberta\\nMaster of Science - MS,\\xa0Plasma and High-Temperature Physics\\xa0·\\xa0(September\\n2020\\xa0-\\xa0June 2023)\\nUniversity of Alberta\\nUndergraduate,\\xa0Physics\\xa0·\\xa0(2015\\xa0-\\xa02019)\\n\\xa0 Page 5 of 5\\n\\nWith this context, please chat with the user, always staying in character as Aparajit Gnanasekaran.\""
      ]
     },
     "execution_count": 8,
     "metadata": {},
     "output_type": "execute_result"
    }
   ],
   "source": [
    "system_prompt"
   ]
  },
  {
   "cell_type": "code",
   "execution_count": 12,
   "metadata": {},
   "outputs": [],
   "source": [
    "def chat(message, history):\n",
    "    history = [{\"role\": h[\"role\"], \"content\": h[\"content\"]} for h in history]\n",
    "    messages = [{\"role\": \"system\", \"content\": system_prompt}] + history + [{\"role\": \"user\", \"content\": message}]\n",
    "    response = openai.chat.completions.create(model=\"gpt-4.1-nano\", messages=messages)\n",
    "    return response.choices[0].message.content"
   ]
  },
  {
   "cell_type": "markdown",
   "metadata": {},
   "source": [
    "## Special note for people not using OpenAI\n",
    "\n",
    "Some providers, like Groq, might give an error when you send your second message in the chat.\n",
    "\n",
    "This is because Gradio shoves some extra fields into the history object. OpenAI doesn't mind; but some other models complain.\n",
    "\n",
    "If this happens, the solution is to add this first line to the chat() function above. It cleans up the history variable:\n",
    "\n",
    "```python\n",
    "history = [{\"role\": h[\"role\"], \"content\": h[\"content\"]} for h in history]\n",
    "```\n",
    "\n",
    "You may need to add this in other chat() callback functions in the future, too."
   ]
  },
  {
   "cell_type": "code",
   "execution_count": 13,
   "metadata": {},
   "outputs": [
    {
     "name": "stdout",
     "output_type": "stream",
     "text": [
      "* Running on local URL:  http://127.0.0.1:7861\n",
      "* To create a public link, set `share=True` in `launch()`.\n"
     ]
    },
    {
     "data": {
      "text/html": [
       "<div><iframe src=\"http://127.0.0.1:7861/\" width=\"100%\" height=\"500\" allow=\"autoplay; camera; microphone; clipboard-read; clipboard-write;\" frameborder=\"0\" allowfullscreen></iframe></div>"
      ],
      "text/plain": [
       "<IPython.core.display.HTML object>"
      ]
     },
     "metadata": {},
     "output_type": "display_data"
    },
    {
     "data": {
      "text/plain": []
     },
     "execution_count": 13,
     "metadata": {},
     "output_type": "execute_result"
    }
   ],
   "source": [
    "gr.ChatInterface(chat, type=\"messages\").launch()"
   ]
  },
  {
   "cell_type": "markdown",
   "metadata": {},
   "source": [
    "## A lot is about to happen...\n",
    "\n",
    "1. Be able to ask an LLM to evaluate an answer\n",
    "2. Be able to rerun if the answer fails evaluation\n",
    "3. Put this together into 1 workflow\n",
    "\n",
    "All without any Agentic framework!"
   ]
  },
  {
   "cell_type": "code",
   "execution_count": 14,
   "metadata": {},
   "outputs": [],
   "source": [
    "# Create a Pydantic model for the Evaluation\n",
    "\n",
    "from pydantic import BaseModel\n",
    "\n",
    "class Evaluation(BaseModel):\n",
    "    is_acceptable: bool\n",
    "    feedback: str\n"
   ]
  },
  {
   "cell_type": "code",
   "execution_count": 15,
   "metadata": {},
   "outputs": [],
   "source": [
    "evaluator_system_prompt = f\"You are an evaluator that decides whether a response to a question is acceptable. \\\n",
    "You are provided with a conversation between a User and an Agent. Your task is to decide whether the Agent's latest response is acceptable quality. \\\n",
    "The Agent is playing the role of {name} and is representing {name} on their website. \\\n",
    "The Agent has been instructed to be professional and engaging, as if talking to a potential client or future employer who came across the website. \\\n",
    "The Agent has been provided with context on {name} in the form of their summary and LinkedIn details. Here's the information:\"\n",
    "\n",
    "evaluator_system_prompt += f\"\\n\\n## Summary:\\n{summary}\\n\\n## LinkedIn Profile:\\n{linkedin}\\n\\n\"\n",
    "evaluator_system_prompt += f\"With this context, please evaluate the latest response, replying with whether the response is acceptable and your feedback.\""
   ]
  },
  {
   "cell_type": "code",
   "execution_count": 16,
   "metadata": {},
   "outputs": [],
   "source": [
    "def evaluator_user_prompt(reply, message, history):\n",
    "    user_prompt = f\"Here's the conversation between the User and the Agent: \\n\\n{history}\\n\\n\"\n",
    "    user_prompt += f\"Here's the latest message from the User: \\n\\n{message}\\n\\n\"\n",
    "    user_prompt += f\"Here's the latest response from the Agent: \\n\\n{reply}\\n\\n\"\n",
    "    user_prompt += \"Please evaluate the response, replying with whether it is acceptable and your feedback.\"\n",
    "    return user_prompt"
   ]
  },
  {
   "cell_type": "code",
   "execution_count": 17,
   "metadata": {},
   "outputs": [],
   "source": [
    "import os\n",
    "gemini = OpenAI(\n",
    "    api_key=os.getenv(\"GOOGLE_API_KEY\"), \n",
    "    base_url=\"https://generativelanguage.googleapis.com/v1beta/openai/\"\n",
    ")"
   ]
  },
  {
   "cell_type": "code",
   "execution_count": 20,
   "metadata": {},
   "outputs": [],
   "source": [
    "def evaluate(reply, message, history) -> Evaluation:\n",
    "\n",
    "    messages = [{\"role\": \"system\", \"content\": evaluator_system_prompt}] + [{\"role\": \"user\", \"content\": evaluator_user_prompt(reply, message, history)}]\n",
    "    response = gemini.beta.chat.completions.parse(model=\"gemini-2.5-flash\", messages=messages, response_format=Evaluation)\n",
    "    return response.choices[0].message.parsed"
   ]
  },
  {
   "cell_type": "code",
   "execution_count": 21,
   "metadata": {},
   "outputs": [],
   "source": [
    "messages = [{\"role\": \"system\", \"content\": system_prompt}] + [{\"role\": \"user\", \"content\": \"do you hold a patent?\"}]\n",
    "response = openai.chat.completions.create(model=\"gpt-4.1-nano\", messages=messages)\n",
    "reply = response.choices[0].message.content"
   ]
  },
  {
   "cell_type": "code",
   "execution_count": 22,
   "metadata": {},
   "outputs": [
    {
     "data": {
      "text/plain": [
       "'As of now, I do not hold any patents. My focus has primarily been on developing and deploying AI and ML solutions across academia, industry, and startups, with a strong emphasis on research, model development, and practical applications. If you have specific interests in innovations or intellectual property, I’d be happy to discuss how my work might align with those areas!'"
      ]
     },
     "execution_count": 22,
     "metadata": {},
     "output_type": "execute_result"
    }
   ],
   "source": [
    "reply"
   ]
  },
  {
   "cell_type": "code",
   "execution_count": 23,
   "metadata": {},
   "outputs": [
    {
     "data": {
      "text/plain": [
       "Evaluation(is_acceptable=True, feedback=\"The agent accurately answers the question based on the provided information, stating that Aparajit Gnanasekaran does not hold any patents. The response is professional and engaging, elaborating on their focus and inviting further discussion, which aligns perfectly with the persona's instructions.\")"
      ]
     },
     "execution_count": 23,
     "metadata": {},
     "output_type": "execute_result"
    }
   ],
   "source": [
    "evaluate(reply, \"do you hold a patent?\", messages[:1])"
   ]
  },
  {
   "cell_type": "code",
   "execution_count": 27,
   "metadata": {},
   "outputs": [],
   "source": [
    "def rerun(reply, message, history, feedback):\n",
    "    updated_system_prompt = system_prompt + \"\\n\\n## Previous answer rejected\\nYou just tried to reply, but the quality control rejected your reply\\n\"\n",
    "    updated_system_prompt += f\"## Your attempted answer:\\n{reply}\\n\\n\"\n",
    "    updated_system_prompt += f\"## Reason for rejection:\\n{feedback}\\n\\n\"\n",
    "    messages = [{\"role\": \"system\", \"content\": updated_system_prompt}] + history + [{\"role\": \"user\", \"content\": message}]\n",
    "    response = openai.chat.completions.create(model=\"gpt-4.1-nano\", messages=messages)\n",
    "    return response.choices[0].message.content"
   ]
  },
  {
   "cell_type": "code",
   "execution_count": 28,
   "metadata": {},
   "outputs": [],
   "source": [
    "def chat(message, history):\n",
    "    if \"patent\" in message:\n",
    "        system = system_prompt + \"\\n\\nEverything in your reply needs to be in pig latin - \\\n",
    "              it is mandatory that you respond only and entirely in pig latin\"\n",
    "    else:\n",
    "        system = system_prompt\n",
    "    messages = [{\"role\": \"system\", \"content\": system}] + history + [{\"role\": \"user\", \"content\": message}]\n",
    "    response = openai.chat.completions.create(model=\"gpt-4.1-nano\", messages=messages)\n",
    "    reply =response.choices[0].message.content\n",
    "\n",
    "    evaluation = evaluate(reply, message, history)\n",
    "    \n",
    "    if evaluation.is_acceptable:\n",
    "        print(\"Passed evaluation - returning reply\")\n",
    "    else:\n",
    "        print(\"Failed evaluation - retrying\")\n",
    "        print(evaluation.feedback)\n",
    "        reply = rerun(reply, message, history, evaluation.feedback)       \n",
    "    return reply"
   ]
  },
  {
   "cell_type": "code",
   "execution_count": 29,
   "metadata": {},
   "outputs": [
    {
     "name": "stdout",
     "output_type": "stream",
     "text": [
      "* Running on local URL:  http://127.0.0.1:7863\n",
      "* To create a public link, set `share=True` in `launch()`.\n"
     ]
    },
    {
     "data": {
      "text/html": [
       "<div><iframe src=\"http://127.0.0.1:7863/\" width=\"100%\" height=\"500\" allow=\"autoplay; camera; microphone; clipboard-read; clipboard-write;\" frameborder=\"0\" allowfullscreen></iframe></div>"
      ],
      "text/plain": [
       "<IPython.core.display.HTML object>"
      ]
     },
     "metadata": {},
     "output_type": "display_data"
    },
    {
     "data": {
      "text/plain": []
     },
     "execution_count": 29,
     "metadata": {},
     "output_type": "execute_result"
    },
    {
     "name": "stdout",
     "output_type": "stream",
     "text": [
      "Failed evaluation - retrying\n",
      "The agent's response is in Pig Latin, which is completely unprofessional and makes the information difficult to understand. This does not align with the instruction to be professional and engaging for a potential client or future employer.\n"
     ]
    }
   ],
   "source": [
    "gr.ChatInterface(chat, type=\"messages\").launch()"
   ]
  },
  {
   "cell_type": "markdown",
   "metadata": {},
   "source": []
  },
  {
   "cell_type": "code",
   "execution_count": null,
   "metadata": {},
   "outputs": [],
   "source": []
  }
 ],
 "metadata": {
  "kernelspec": {
   "display_name": "agents",
   "language": "python",
   "name": "python3"
  },
  "language_info": {
   "codemirror_mode": {
    "name": "ipython",
    "version": 3
   },
   "file_extension": ".py",
   "mimetype": "text/x-python",
   "name": "python",
   "nbconvert_exporter": "python",
   "pygments_lexer": "ipython3",
   "version": "3.12.11"
  }
 },
 "nbformat": 4,
 "nbformat_minor": 2
}
